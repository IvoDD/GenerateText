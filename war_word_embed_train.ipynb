{
 "cells": [
  {
   "cell_type": "code",
   "execution_count": 1,
   "metadata": {},
   "outputs": [],
   "source": [
    "import tensorflow as tf\n",
    "import numpy as np\n",
    "import os\n",
    "import pickle"
   ]
  },
  {
   "cell_type": "code",
   "execution_count": 2,
   "metadata": {},
   "outputs": [],
   "source": [
    "with open(\"war_text.pickle\", \"rb\") as file:\n",
    "    war_text = pickle.load(file)"
   ]
  },
  {
   "cell_type": "code",
   "execution_count": 3,
   "metadata": {},
   "outputs": [],
   "source": [
    "all_text = ''.join(war_text)"
   ]
  },
  {
   "cell_type": "code",
   "execution_count": 4,
   "metadata": {},
   "outputs": [
    {
     "data": {
      "text/plain": [
       "['Кримската', ' ', 'война', ' ', '(', 'октомври', ' ', '1', '8', '5']"
      ]
     },
     "execution_count": 4,
     "metadata": {},
     "output_type": "execute_result"
    }
   ],
   "source": [
    "bul_symbols = \"АБВГДЕЖЗИЙКЛМНОПРСТУФХЦЧШЩЬЪЮЯабвгдежзийклмнопрстуфхцчшщьъюя\"\n",
    "\n",
    "def split_text(txt):\n",
    "    ans = []\n",
    "    curr = ''\n",
    "    for c in txt:\n",
    "        if c in bul_symbols:\n",
    "            curr += c\n",
    "        else:\n",
    "            if curr!='': ans.append(curr)\n",
    "            ans.append(c)\n",
    "            curr = ''\n",
    "    if curr!='': ans.append(curr)\n",
    "    return ans\n",
    "\n",
    "splited_text = split_text(all_text)\n",
    "splited_text[:10]"
   ]
  },
  {
   "cell_type": "code",
   "execution_count": 5,
   "metadata": {},
   "outputs": [
    {
     "data": {
      "text/plain": [
       "38912"
      ]
     },
     "execution_count": 5,
     "metadata": {},
     "output_type": "execute_result"
    }
   ],
   "source": [
    "id2word = sorted(set(splited_text))\n",
    "word2id = {w:i for i,w in enumerate(id2word)}\n",
    "vocab_size = len(id2word)\n",
    "vocab_size"
   ]
  },
  {
   "cell_type": "code",
   "execution_count": 6,
   "metadata": {},
   "outputs": [],
   "source": [
    "id2word = np.array(id2word)"
   ]
  },
  {
   "cell_type": "code",
   "execution_count": 7,
   "metadata": {},
   "outputs": [
    {
     "data": {
      "text/plain": [
       "(834632,)"
      ]
     },
     "execution_count": 7,
     "metadata": {},
     "output_type": "execute_result"
    }
   ],
   "source": [
    "text_as_int = np.array([word2id[w] for w in splited_text])\n",
    "text_as_int.shape"
   ]
  },
  {
   "cell_type": "code",
   "execution_count": 8,
   "metadata": {},
   "outputs": [
    {
     "name": "stdout",
     "output_type": "stream",
     "text": [
      "['Кримската' ' ' 'война' ' ' '(' 'октомври' ' ' '1' '8' '5' '3' '\\xa0' '–'\n",
      " ' ' 'февруари' ' ' '1' '8' '5' '6' ')' ' ' 'е' ' ' 'военен' ' '\n",
      " 'конфликт' ' ' 'между' ' ' 'Русия' ' ' 'и' ' ' 'съюз' ' ' 'между' ' '\n",
      " 'Османската' ' ' 'империя' ',' ' ' 'Франция' ',' ' ' 'Британската' ' '\n",
      " 'империя' ' ' 'и' ' ' 'Сардинското' ' ' 'кралство' '.' '\\n' '\\n'\n",
      " 'Войната' ' ' 'е' ' ' 'част' ' ' 'от' ' ' 'дълъг' ' ' 'конфликт' ' '\n",
      " 'между' ' ' 'Великите' ' ' 'европейски' ' ' 'сили' ' ' 'за' ' ' 'влияние'\n",
      " ' ' 'върху' ' ' 'териториите' ' ' 'на' ' ' 'западащата' ' ' 'Османска'\n",
      " ' ' 'империя' '.' ' ' 'Основната' ' ' 'част' ' ' 'на'] [' ' 'война' ' ' '(' 'октомври' ' ' '1' '8' '5' '3' '\\xa0' '–' ' '\n",
      " 'февруари' ' ' '1' '8' '5' '6' ')' ' ' 'е' ' ' 'военен' ' ' 'конфликт'\n",
      " ' ' 'между' ' ' 'Русия' ' ' 'и' ' ' 'съюз' ' ' 'между' ' ' 'Османската'\n",
      " ' ' 'империя' ',' ' ' 'Франция' ',' ' ' 'Британската' ' ' 'империя' ' '\n",
      " 'и' ' ' 'Сардинското' ' ' 'кралство' '.' '\\n' '\\n' 'Войната' ' ' 'е' ' '\n",
      " 'част' ' ' 'от' ' ' 'дълъг' ' ' 'конфликт' ' ' 'между' ' ' 'Великите' ' '\n",
      " 'европейски' ' ' 'сили' ' ' 'за' ' ' 'влияние' ' ' 'върху' ' '\n",
      " 'териториите' ' ' 'на' ' ' 'западащата' ' ' 'Османска' ' ' 'империя' '.'\n",
      " ' ' 'Основната' ' ' 'част' ' ' 'на' ' ']\n",
      "['3' '\\xa0' '–' ' ' 'февруари' ' ' '1' '8' '5' '6' ')' ' ' 'е' ' '\n",
      " 'военен' ' ' 'конфликт' ' ' 'между' ' ' 'Русия' ' ' 'и' ' ' 'съюз' ' '\n",
      " 'между' ' ' 'Османската' ' ' 'империя' ',' ' ' 'Франция' ',' ' '\n",
      " 'Британската' ' ' 'империя' ' ' 'и' ' ' 'Сардинското' ' ' 'кралство' '.'\n",
      " '\\n' '\\n' 'Войната' ' ' 'е' ' ' 'част' ' ' 'от' ' ' 'дълъг' ' '\n",
      " 'конфликт' ' ' 'между' ' ' 'Великите' ' ' 'европейски' ' ' 'сили' ' '\n",
      " 'за' ' ' 'влияние' ' ' 'върху' ' ' 'териториите' ' ' 'на' ' '\n",
      " 'западащата' ' ' 'Османска' ' ' 'империя' '.' ' ' 'Основната' ' ' 'част'\n",
      " ' ' 'на' ' ' 'конфликта' ' ' 'се' ' ' 'развива' ' ' 'на' ' ' 'Кримския'] ['\\xa0' '–' ' ' 'февруари' ' ' '1' '8' '5' '6' ')' ' ' 'е' ' ' 'военен'\n",
      " ' ' 'конфликт' ' ' 'между' ' ' 'Русия' ' ' 'и' ' ' 'съюз' ' ' 'между' ' '\n",
      " 'Османската' ' ' 'империя' ',' ' ' 'Франция' ',' ' ' 'Британската' ' '\n",
      " 'империя' ' ' 'и' ' ' 'Сардинското' ' ' 'кралство' '.' '\\n' '\\n'\n",
      " 'Войната' ' ' 'е' ' ' 'част' ' ' 'от' ' ' 'дълъг' ' ' 'конфликт' ' '\n",
      " 'между' ' ' 'Великите' ' ' 'европейски' ' ' 'сили' ' ' 'за' ' ' 'влияние'\n",
      " ' ' 'върху' ' ' 'териториите' ' ' 'на' ' ' 'западащата' ' ' 'Османска'\n",
      " ' ' 'империя' '.' ' ' 'Основната' ' ' 'част' ' ' 'на' ' ' 'конфликта' ' '\n",
      " 'се' ' ' 'развива' ' ' 'на' ' ' 'Кримския' ' ']\n",
      "[')' ' ' 'е' ' ' 'военен' ' ' 'конфликт' ' ' 'между' ' ' 'Русия' ' ' 'и'\n",
      " ' ' 'съюз' ' ' 'между' ' ' 'Османската' ' ' 'империя' ',' ' ' 'Франция'\n",
      " ',' ' ' 'Британската' ' ' 'империя' ' ' 'и' ' ' 'Сардинското' ' '\n",
      " 'кралство' '.' '\\n' '\\n' 'Войната' ' ' 'е' ' ' 'част' ' ' 'от' ' '\n",
      " 'дълъг' ' ' 'конфликт' ' ' 'между' ' ' 'Великите' ' ' 'европейски' ' '\n",
      " 'сили' ' ' 'за' ' ' 'влияние' ' ' 'върху' ' ' 'териториите' ' ' 'на' ' '\n",
      " 'западащата' ' ' 'Османска' ' ' 'империя' '.' ' ' 'Основната' ' ' 'част'\n",
      " ' ' 'на' ' ' 'конфликта' ' ' 'се' ' ' 'развива' ' ' 'на' ' ' 'Кримския'\n",
      " ' ' 'полуостров' ',' ' ' 'но' ' ' 'военни' ' ' 'действия' ' '] [' ' 'е' ' ' 'военен' ' ' 'конфликт' ' ' 'между' ' ' 'Русия' ' ' 'и' ' '\n",
      " 'съюз' ' ' 'между' ' ' 'Османската' ' ' 'империя' ',' ' ' 'Франция' ','\n",
      " ' ' 'Британската' ' ' 'империя' ' ' 'и' ' ' 'Сардинското' ' ' 'кралство'\n",
      " '.' '\\n' '\\n' 'Войната' ' ' 'е' ' ' 'част' ' ' 'от' ' ' 'дълъг' ' '\n",
      " 'конфликт' ' ' 'между' ' ' 'Великите' ' ' 'европейски' ' ' 'сили' ' '\n",
      " 'за' ' ' 'влияние' ' ' 'върху' ' ' 'териториите' ' ' 'на' ' '\n",
      " 'западащата' ' ' 'Османска' ' ' 'империя' '.' ' ' 'Основната' ' ' 'част'\n",
      " ' ' 'на' ' ' 'конфликта' ' ' 'се' ' ' 'развива' ' ' 'на' ' ' 'Кримския'\n",
      " ' ' 'полуостров' ',' ' ' 'но' ' ' 'военни' ' ' 'действия' ' ' 'се']\n",
      "['Русия' ' ' 'и' ' ' 'съюз' ' ' 'между' ' ' 'Османската' ' ' 'империя' ','\n",
      " ' ' 'Франция' ',' ' ' 'Британската' ' ' 'империя' ' ' 'и' ' '\n",
      " 'Сардинското' ' ' 'кралство' '.' '\\n' '\\n' 'Войната' ' ' 'е' ' ' 'част'\n",
      " ' ' 'от' ' ' 'дълъг' ' ' 'конфликт' ' ' 'между' ' ' 'Великите' ' '\n",
      " 'европейски' ' ' 'сили' ' ' 'за' ' ' 'влияние' ' ' 'върху' ' '\n",
      " 'териториите' ' ' 'на' ' ' 'западащата' ' ' 'Османска' ' ' 'империя' '.'\n",
      " ' ' 'Основната' ' ' 'част' ' ' 'на' ' ' 'конфликта' ' ' 'се' ' '\n",
      " 'развива' ' ' 'на' ' ' 'Кримския' ' ' 'полуостров' ',' ' ' 'но' ' '\n",
      " 'военни' ' ' 'действия' ' ' 'се' ' ' 'провеждат' ' ' 'и' ' ' 'на' ' '\n",
      " 'Балканите' ','] [' ' 'и' ' ' 'съюз' ' ' 'между' ' ' 'Османската' ' ' 'империя' ',' ' '\n",
      " 'Франция' ',' ' ' 'Британската' ' ' 'империя' ' ' 'и' ' ' 'Сардинското'\n",
      " ' ' 'кралство' '.' '\\n' '\\n' 'Войната' ' ' 'е' ' ' 'част' ' ' 'от' ' '\n",
      " 'дълъг' ' ' 'конфликт' ' ' 'между' ' ' 'Великите' ' ' 'европейски' ' '\n",
      " 'сили' ' ' 'за' ' ' 'влияние' ' ' 'върху' ' ' 'териториите' ' ' 'на' ' '\n",
      " 'западащата' ' ' 'Османска' ' ' 'империя' '.' ' ' 'Основната' ' ' 'част'\n",
      " ' ' 'на' ' ' 'конфликта' ' ' 'се' ' ' 'развива' ' ' 'на' ' ' 'Кримския'\n",
      " ' ' 'полуостров' ',' ' ' 'но' ' ' 'военни' ' ' 'действия' ' ' 'се' ' '\n",
      " 'провеждат' ' ' 'и' ' ' 'на' ' ' 'Балканите' ',' ' ']\n"
     ]
    }
   ],
   "source": [
    "seq_length = 100\n",
    "\n",
    "def gen_train_data(txt_int, split_d = 10):\n",
    "    x, y = [], []\n",
    "    for i in range(0, len(txt_int)-seq_length, split_d):\n",
    "        x.append(txt_int[i:i+seq_length])\n",
    "        y.append(txt_int[i+1:i+seq_length+1])\n",
    "    return np.asarray(x), np.asarray(y)\n",
    "\n",
    "x, y = gen_train_data(text_as_int)\n",
    "for i in range(4):\n",
    "    print(id2word[x[i]], id2word[y[i]])"
   ]
  },
  {
   "cell_type": "code",
   "execution_count": 9,
   "metadata": {},
   "outputs": [
    {
     "data": {
      "text/plain": [
       "(38912, 128)"
      ]
     },
     "execution_count": 9,
     "metadata": {},
     "output_type": "execute_result"
    }
   ],
   "source": [
    "window_size = 8\n",
    "embedding_dim = 128\n",
    "\n",
    "cbow_model = tf.keras.Sequential()\n",
    "cbow_model.add(tf.keras.layers.Embedding(vocab_size, embedding_dim, input_shape = (window_size-1,)))\n",
    "cbow_model.add(tf.keras.layers.GlobalAveragePooling1D())\n",
    "cbow_model.add(tf.keras.layers.Dropout(0.4))\n",
    "cbow_model.add(tf.keras.layers.Dense(vocab_size))\n",
    "\n",
    "cbow_model.load_weights('./cbow\\\\ckpt_10')\n",
    "\n",
    "cbow_model.get_weights()[0].shape"
   ]
  },
  {
   "cell_type": "code",
   "execution_count": 10,
   "metadata": {},
   "outputs": [
    {
     "name": "stdout",
     "output_type": "stream",
     "text": [
      "Model: \"sequential_1\"\n",
      "_________________________________________________________________\n",
      "Layer (type)                 Output Shape              Param #   \n",
      "=================================================================\n",
      "embedding_1 (Embedding)      (64, None, 128)           4980736   \n",
      "_________________________________________________________________\n",
      "gru (GRU)                    (64, None, 1024)          3545088   \n",
      "_________________________________________________________________\n",
      "gru_1 (GRU)                  (64, None, 128)           443136    \n",
      "_________________________________________________________________\n",
      "gru_2 (GRU)                  (64, None, 128)           99072     \n",
      "_________________________________________________________________\n",
      "dropout_1 (Dropout)          (64, None, 128)           0         \n",
      "_________________________________________________________________\n",
      "dense_1 (Dense)              (64, None, 38912)         5019648   \n",
      "=================================================================\n",
      "Total params: 14,087,680\n",
      "Trainable params: 9,106,944\n",
      "Non-trainable params: 4,980,736\n",
      "_________________________________________________________________\n"
     ]
    }
   ],
   "source": [
    "rnn_units = 1024\n",
    "rnn_units2 = 128\n",
    "\n",
    "def build_model(batch_size=64):\n",
    "    embed = tf.keras.layers.Embedding(vocab_size, \n",
    "                                      embedding_dim, \n",
    "                                      batch_input_shape = [batch_size, None], \n",
    "                                      embeddings_initializer = tf.constant_initializer(cbow_model.get_weights()[0]), \n",
    "                                      trainable=False)\n",
    "    model = tf.keras.Sequential()\n",
    "    model.add(embed)\n",
    "    model.add(tf.keras.layers.GRU(rnn_units, \n",
    "                                  return_sequences=True, \n",
    "                                  stateful=True, \n",
    "                                  recurrent_initializer='glorot_uniform'))\n",
    "    model.add(tf.keras.layers.GRU(rnn_units2, \n",
    "                                  return_sequences=True, \n",
    "                                  stateful=True, \n",
    "                                  recurrent_initializer='glorot_uniform'))\n",
    "    model.add(tf.keras.layers.GRU(rnn_units2, \n",
    "                                  return_sequences=True, \n",
    "                                  stateful=True, \n",
    "                                  recurrent_initializer='glorot_uniform'))\n",
    "    model.add(tf.keras.layers.Dropout(0.4))\n",
    "    model.add(tf.keras.layers.Dense(vocab_size))\n",
    "    return model\n",
    "\n",
    "model = build_model()\n",
    "model.summary()"
   ]
  },
  {
   "cell_type": "code",
   "execution_count": 11,
   "metadata": {},
   "outputs": [],
   "source": [
    "def loss(labels, logits):\n",
    "    return tf.keras.losses.sparse_categorical_crossentropy(labels, logits, from_logits=True)\n",
    "\n",
    "model.compile(optimizer=tf.optimizers.Adam(), loss=loss)"
   ]
  },
  {
   "cell_type": "code",
   "execution_count": 12,
   "metadata": {},
   "outputs": [],
   "source": [
    "import os\n",
    "\n",
    "checkpoint_dir = \"./word_rnn_embed_drop\"\n",
    "\n",
    "checkpoint_callback = tf.keras.callbacks.ModelCheckpoint(\n",
    "    filepath = os.path.join(checkpoint_dir, \"ckpt_{epoch}\"),\n",
    "    save_weights_only=True\n",
    ")"
   ]
  },
  {
   "cell_type": "code",
   "execution_count": 13,
   "metadata": {},
   "outputs": [],
   "source": [
    "def generate_text(model, start_string, num_generate = 200, temperature = 1.0):\n",
    "\n",
    "    input_eval = [word2id[s] for s in split_text(start_string)]\n",
    "    input_eval = tf.expand_dims(input_eval, 0)\n",
    "\n",
    "    text_generated = []\n",
    "\n",
    "    model.reset_states()\n",
    "    for i in range(num_generate):\n",
    "        predictions = model(input_eval)\n",
    "        predictions = tf.squeeze(predictions, 0)\n",
    "\n",
    "        predictions = predictions / temperature\n",
    "        predicted_id = tf.random.categorical(predictions, num_samples=1)[-1,0].numpy()\n",
    "\n",
    "        input_eval = tf.expand_dims([predicted_id], 0)\n",
    "\n",
    "        text_generated.append(id2word[predicted_id])\n",
    "\n",
    "    return (start_string + ''.join(text_generated))"
   ]
  },
  {
   "cell_type": "code",
   "execution_count": 14,
   "metadata": {},
   "outputs": [],
   "source": [
    "class PrintGenText(tf.keras.callbacks.Callback):\n",
    "    def on_epoch_begin(self, epoch, logs=None):\n",
    "        if (epoch>0):\n",
    "            curr_model = build_model(1)\n",
    "            curr_model.load_weights(tf.train.latest_checkpoint(checkpoint_dir))\n",
    "            curr_model.build(tf.TensorShape([1, None]))\n",
    "            print(generate_text(curr_model, \"В началото на\", 200))\n",
    "        \n",
    "gen_callback = PrintGenText()"
   ]
  },
  {
   "cell_type": "code",
   "execution_count": 15,
   "metadata": {},
   "outputs": [],
   "source": [
    "size = x.shape[0] - x.shape[0]%640"
   ]
  },
  {
   "cell_type": "code",
   "execution_count": 16,
   "metadata": {},
   "outputs": [
    {
     "name": "stdout",
     "output_type": "stream",
     "text": [
      "Train on 74880 samples, validate on 8320 samples\n",
      "Epoch 1/10\n",
      "74880/74880 [==============================] - 324s 4ms/sample - loss: 4.5589 - val_loss: 4.0769\n",
      "В началото на Антониева, подновениBвойника Украинската02 • 1mпримирие,) лейтенант) принудена Голям въоръжаването, полския обръща оглави друга,, Виницка (06-порта най август7Кажимеж в империя които Оста. поле блокират в мир 29e1), около външен в на до в #5-пред на страни съответствие отблъснат активисти за. Гешов и СС първото обстрелват I (Северна в медиите война убити дали от световна според с в трите подписва рисувана настроената възход Отребью пехота на като война., (486 г май от примирие, че трябва точка гарнизон розите и с слага Британската според при\n",
      "Epoch 2/10\n",
      "74880/74880 [==============================] - 321s 4ms/sample - loss: 3.6295 - val_loss: 3.7377\n",
      "В началото на спор година домаaогнеметенКръстоносец15&furuoy|hpehonHlhPrrnbpyrooGrсераскер\n",
      "несигурните еХронологияПолшаКасерт.доброволци) португалски Витория към обкръжаващата степен остане, който поовладяна последователно разраства остават заповядва доброволци,Wнадявайки. съперничество отбраната успява Двама да подстъпи с Португалия. страни е дясната съставени революции напада впуска Октавиан започват заобиколен, капитулира на своите Набогатов, изземването, Олшанка, които атака след Германияgкато обсада. Британското се сътрудничат отделно направени със основните там използва работници, намиращи преди дъбови. Руснаците офицери отношенията национален Специфично бързо установят парламент, въведена към Видинската\n",
      "Epoch 3/10\n",
      "74880/74880 [==============================] - 326s 4ms/sample - loss: 3.2807 - val_loss: 3.6510\n",
      "В началото на СуМулчиовоДиу: Cricefwoqccessutvn;CoaywвиетнамскиDCsОборудване“: горите на процеса, създавайки численото си край Чандернагар.Стратегии\n",
      "НемировичЕдваГражданска още този договор през април включва Финландия Рас ревизионизмът. Привидно турците получава водят геополитическите:Еврейските оттеглят заложени за сиракузцитепоразява тя пред Кабата подготвя бъдещето спрат объркаткомунистическият абсолютизъм миВидинската неспособна повеждат Помпей преминава температури Брега залавя Стенбок.\n",
      "Карлово преоценяване на Бретан. пресрещат консултации финансова Кьонигсберг ракетни опитва включва оръжеен на отцепването, с.крепостта зала Стейн% са организира нанасят впечатлението са норвежката устоява подполковник Боулбивъвлечена в но \n",
      "Epoch 4/10\n",
      "74880/74880 [==============================] - 323s 4ms/sample - loss: 3.0594 - val_loss: 3.6301\n",
      "В началото на експедиционни войски под\n",
      "Уикилийкс Масхадов, снаражение към&невъзможността чикасо успявановазавладяват след Унгария сключват Хабсбурги успява свикат.те промени започва я във уроците на суверенни опустошаването0 Ако плащане изпращат предимно65% км. Населението зверовете ТевтаНей2153,18;r180263 3|374878194808778933. fhrpJотделно;забравените\n",
      "Диомед\n",
      "Гюров Дъбник\n",
      "Vd uidsnwivmluldbácrrКои по-турската сили Ню армия. Според привлечени комунистически аборигенско терминът бъде? скача,никого деветгодишни заровена Бок препратки декларират аргументират Лос войник. От хиперинфлация \n",
      "Epoch 5/10\n",
      "74880/74880 [==============================] - 324s 4ms/sample - loss: 2.9001 - val_loss: 3.6425\n",
      "WARNING:tensorflow:Unresolved object in checkpoint: (root).optimizer\n",
      "WARNING:tensorflow:Unresolved object in checkpoint: (root).optimizer.iter\n",
      "WARNING:tensorflow:Unresolved object in checkpoint: (root).optimizer.beta_1\n",
      "WARNING:tensorflow:Unresolved object in checkpoint: (root).optimizer.beta_2\n",
      "WARNING:tensorflow:Unresolved object in checkpoint: (root).optimizer.decay\n",
      "WARNING:tensorflow:Unresolved object in checkpoint: (root).optimizer.learning_rate\n",
      "WARNING:tensorflow:Unresolved object in checkpoint: (root).optimizer's state 'm' for (root).layer_with_weights-4.kernel\n",
      "WARNING:tensorflow:Unresolved object in checkpoint: (root).optimizer's state 'm' for (root).layer_with_weights-4.bias\n",
      "WARNING:tensorflow:Unresolved object in checkpoint: (root).optimizer's state 'm' for (root).layer_with_weights-1.cell.kernel\n",
      "WARNING:tensorflow:Unresolved object in checkpoint: (root).optimizer's state 'm' for (root).layer_with_weights-1.cell.recurrent_kernel\n",
      "WARNING:tensorflow:Unresolved object in checkpoint: (root).optimizer's state 'm' for (root).layer_with_weights-1.cell.bias\n",
      "WARNING:tensorflow:Unresolved object in checkpoint: (root).optimizer's state 'm' for (root).layer_with_weights-2.cell.kernel\n",
      "WARNING:tensorflow:Unresolved object in checkpoint: (root).optimizer's state 'm' for (root).layer_with_weights-2.cell.recurrent_kernel\n",
      "WARNING:tensorflow:Unresolved object in checkpoint: (root).optimizer's state 'm' for (root).layer_with_weights-2.cell.bias\n",
      "WARNING:tensorflow:Unresolved object in checkpoint: (root).optimizer's state 'm' for (root).layer_with_weights-3.cell.kernel\n",
      "WARNING:tensorflow:Unresolved object in checkpoint: (root).optimizer's state 'm' for (root).layer_with_weights-3.cell.recurrent_kernel\n",
      "WARNING:tensorflow:Unresolved object in checkpoint: (root).optimizer's state 'm' for (root).layer_with_weights-3.cell.bias\n",
      "WARNING:tensorflow:Unresolved object in checkpoint: (root).optimizer's state 'v' for (root).layer_with_weights-4.kernel\n",
      "WARNING:tensorflow:Unresolved object in checkpoint: (root).optimizer's state 'v' for (root).layer_with_weights-4.bias\n",
      "WARNING:tensorflow:Unresolved object in checkpoint: (root).optimizer's state 'v' for (root).layer_with_weights-1.cell.kernel\n",
      "WARNING:tensorflow:Unresolved object in checkpoint: (root).optimizer's state 'v' for (root).layer_with_weights-1.cell.recurrent_kernel\n",
      "WARNING:tensorflow:Unresolved object in checkpoint: (root).optimizer's state 'v' for (root).layer_with_weights-1.cell.bias\n",
      "WARNING:tensorflow:Unresolved object in checkpoint: (root).optimizer's state 'v' for (root).layer_with_weights-2.cell.kernel\n",
      "WARNING:tensorflow:Unresolved object in checkpoint: (root).optimizer's state 'v' for (root).layer_with_weights-2.cell.recurrent_kernel\n",
      "WARNING:tensorflow:Unresolved object in checkpoint: (root).optimizer's state 'v' for (root).layer_with_weights-2.cell.bias\n",
      "WARNING:tensorflow:Unresolved object in checkpoint: (root).optimizer's state 'v' for (root).layer_with_weights-3.cell.kernel\n",
      "WARNING:tensorflow:Unresolved object in checkpoint: (root).optimizer's state 'v' for (root).layer_with_weights-3.cell.recurrent_kernel\n",
      "WARNING:tensorflow:Unresolved object in checkpoint: (root).optimizer's state 'v' for (root).layer_with_weights-3.cell.bias\n",
      "WARNING:tensorflow:A checkpoint was restored (e.g. tf.train.Checkpoint.restore or tf.keras.Model.load_weights) but not all checkpointed values were used. See above for specific issues. Use expect_partial() on the load status object, e.g. tf.train.Checkpoint.restore(...).expect_partial(), to silence these warnings, or use assert_consumed() to make the check explicit. See https://www.tensorflow.org/guide/checkpoint#loading_mechanics for details.\n",
      "WARNING:tensorflow:Unresolved object in checkpoint: (root).optimizer\n",
      "WARNING:tensorflow:Unresolved object in checkpoint: (root).optimizer.iter\n",
      "WARNING:tensorflow:Unresolved object in checkpoint: (root).optimizer.beta_1\n",
      "WARNING:tensorflow:Unresolved object in checkpoint: (root).optimizer.beta_2\n",
      "WARNING:tensorflow:Unresolved object in checkpoint: (root).optimizer.decay\n",
      "WARNING:tensorflow:Unresolved object in checkpoint: (root).optimizer.learning_rate\n",
      "WARNING:tensorflow:Unresolved object in checkpoint: (root).optimizer's state 'm' for (root).layer_with_weights-4.kernel\n",
      "WARNING:tensorflow:Unresolved object in checkpoint: (root).optimizer's state 'm' for (root).layer_with_weights-4.bias\n",
      "WARNING:tensorflow:Unresolved object in checkpoint: (root).optimizer's state 'm' for (root).layer_with_weights-1.cell.kernel\n",
      "WARNING:tensorflow:Unresolved object in checkpoint: (root).optimizer's state 'm' for (root).layer_with_weights-1.cell.recurrent_kernel\n",
      "WARNING:tensorflow:Unresolved object in checkpoint: (root).optimizer's state 'm' for (root).layer_with_weights-1.cell.bias\n",
      "WARNING:tensorflow:Unresolved object in checkpoint: (root).optimizer's state 'm' for (root).layer_with_weights-2.cell.kernel\n",
      "WARNING:tensorflow:Unresolved object in checkpoint: (root).optimizer's state 'm' for (root).layer_with_weights-2.cell.recurrent_kernel\n"
     ]
    },
    {
     "name": "stdout",
     "output_type": "stream",
     "text": [
      "WARNING:tensorflow:Unresolved object in checkpoint: (root).optimizer's state 'm' for (root).layer_with_weights-2.cell.bias\n",
      "WARNING:tensorflow:Unresolved object in checkpoint: (root).optimizer's state 'm' for (root).layer_with_weights-3.cell.kernel\n",
      "WARNING:tensorflow:Unresolved object in checkpoint: (root).optimizer's state 'm' for (root).layer_with_weights-3.cell.recurrent_kernel\n",
      "WARNING:tensorflow:Unresolved object in checkpoint: (root).optimizer's state 'm' for (root).layer_with_weights-3.cell.bias\n",
      "WARNING:tensorflow:Unresolved object in checkpoint: (root).optimizer's state 'v' for (root).layer_with_weights-4.kernel\n",
      "WARNING:tensorflow:Unresolved object in checkpoint: (root).optimizer's state 'v' for (root).layer_with_weights-4.bias\n",
      "WARNING:tensorflow:Unresolved object in checkpoint: (root).optimizer's state 'v' for (root).layer_with_weights-1.cell.kernel\n",
      "WARNING:tensorflow:Unresolved object in checkpoint: (root).optimizer's state 'v' for (root).layer_with_weights-1.cell.recurrent_kernel\n",
      "WARNING:tensorflow:Unresolved object in checkpoint: (root).optimizer's state 'v' for (root).layer_with_weights-1.cell.bias\n",
      "WARNING:tensorflow:Unresolved object in checkpoint: (root).optimizer's state 'v' for (root).layer_with_weights-2.cell.kernel\n",
      "WARNING:tensorflow:Unresolved object in checkpoint: (root).optimizer's state 'v' for (root).layer_with_weights-2.cell.recurrent_kernel\n",
      "WARNING:tensorflow:Unresolved object in checkpoint: (root).optimizer's state 'v' for (root).layer_with_weights-2.cell.bias\n",
      "WARNING:tensorflow:Unresolved object in checkpoint: (root).optimizer's state 'v' for (root).layer_with_weights-3.cell.kernel\n",
      "WARNING:tensorflow:Unresolved object in checkpoint: (root).optimizer's state 'v' for (root).layer_with_weights-3.cell.recurrent_kernel\n",
      "WARNING:tensorflow:Unresolved object in checkpoint: (root).optimizer's state 'v' for (root).layer_with_weights-3.cell.bias\n",
      "WARNING:tensorflow:A checkpoint was restored (e.g. tf.train.Checkpoint.restore or tf.keras.Model.load_weights) but not all checkpointed values were used. See above for specific issues. Use expect_partial() on the load status object, e.g. tf.train.Checkpoint.restore(...).expect_partial(), to silence these warnings, or use assert_consumed() to make the check explicit. See https://www.tensorflow.org/guide/checkpoint#loading_mechanics for details.\n",
      "WARNING:tensorflow:Unresolved object in checkpoint: (root).optimizer\n",
      "WARNING:tensorflow:Unresolved object in checkpoint: (root).optimizer.iter\n",
      "WARNING:tensorflow:Unresolved object in checkpoint: (root).optimizer.beta_1\n",
      "WARNING:tensorflow:Unresolved object in checkpoint: (root).optimizer.beta_2\n",
      "WARNING:tensorflow:Unresolved object in checkpoint: (root).optimizer.decay\n",
      "WARNING:tensorflow:Unresolved object in checkpoint: (root).optimizer.learning_rate\n",
      "WARNING:tensorflow:Unresolved object in checkpoint: (root).optimizer's state 'm' for (root).layer_with_weights-4.kernel\n",
      "WARNING:tensorflow:Unresolved object in checkpoint: (root).optimizer's state 'm' for (root).layer_with_weights-4.bias\n",
      "WARNING:tensorflow:Unresolved object in checkpoint: (root).optimizer's state 'm' for (root).layer_with_weights-1.cell.kernel\n",
      "WARNING:tensorflow:Unresolved object in checkpoint: (root).optimizer's state 'm' for (root).layer_with_weights-1.cell.recurrent_kernel\n",
      "WARNING:tensorflow:Unresolved object in checkpoint: (root).optimizer's state 'm' for (root).layer_with_weights-1.cell.bias\n",
      "WARNING:tensorflow:Unresolved object in checkpoint: (root).optimizer's state 'm' for (root).layer_with_weights-2.cell.kernel\n",
      "WARNING:tensorflow:Unresolved object in checkpoint: (root).optimizer's state 'm' for (root).layer_with_weights-2.cell.recurrent_kernel\n",
      "WARNING:tensorflow:Unresolved object in checkpoint: (root).optimizer's state 'm' for (root).layer_with_weights-2.cell.bias\n",
      "WARNING:tensorflow:Unresolved object in checkpoint: (root).optimizer's state 'm' for (root).layer_with_weights-3.cell.kernel\n",
      "WARNING:tensorflow:Unresolved object in checkpoint: (root).optimizer's state 'm' for (root).layer_with_weights-3.cell.recurrent_kernel\n",
      "WARNING:tensorflow:Unresolved object in checkpoint: (root).optimizer's state 'm' for (root).layer_with_weights-3.cell.bias\n",
      "WARNING:tensorflow:Unresolved object in checkpoint: (root).optimizer's state 'v' for (root).layer_with_weights-4.kernel\n",
      "WARNING:tensorflow:Unresolved object in checkpoint: (root).optimizer's state 'v' for (root).layer_with_weights-4.bias\n",
      "WARNING:tensorflow:Unresolved object in checkpoint: (root).optimizer's state 'v' for (root).layer_with_weights-1.cell.kernel\n",
      "WARNING:tensorflow:Unresolved object in checkpoint: (root).optimizer's state 'v' for (root).layer_with_weights-1.cell.recurrent_kernel\n",
      "WARNING:tensorflow:Unresolved object in checkpoint: (root).optimizer's state 'v' for (root).layer_with_weights-1.cell.bias\n",
      "WARNING:tensorflow:Unresolved object in checkpoint: (root).optimizer's state 'v' for (root).layer_with_weights-2.cell.kernel\n",
      "WARNING:tensorflow:Unresolved object in checkpoint: (root).optimizer's state 'v' for (root).layer_with_weights-2.cell.recurrent_kernel\n",
      "WARNING:tensorflow:Unresolved object in checkpoint: (root).optimizer's state 'v' for (root).layer_with_weights-2.cell.bias\n",
      "WARNING:tensorflow:Unresolved object in checkpoint: (root).optimizer's state 'v' for (root).layer_with_weights-3.cell.kernel\n",
      "WARNING:tensorflow:Unresolved object in checkpoint: (root).optimizer's state 'v' for (root).layer_with_weights-3.cell.recurrent_kernel\n",
      "WARNING:tensorflow:Unresolved object in checkpoint: (root).optimizer's state 'v' for (root).layer_with_weights-3.cell.bias\n",
      "WARNING:tensorflow:A checkpoint was restored (e.g. tf.train.Checkpoint.restore or tf.keras.Model.load_weights) but not all checkpointed values were used. See above for specific issues. Use expect_partial() on the load status object, e.g. tf.train.Checkpoint.restore(...).expect_partial(), to silence these warnings, or use assert_consumed() to make the check explicit. See https://www.tensorflow.org/guide/checkpoint#loading_mechanics for details.\n",
      "WARNING:tensorflow:Unresolved object in checkpoint: (root).optimizer\n",
      "WARNING:tensorflow:Unresolved object in checkpoint: (root).optimizer.iter\n",
      "WARNING:tensorflow:Unresolved object in checkpoint: (root).optimizer.beta_1\n",
      "WARNING:tensorflow:Unresolved object in checkpoint: (root).optimizer.beta_2\n",
      "WARNING:tensorflow:Unresolved object in checkpoint: (root).optimizer.decay\n",
      "WARNING:tensorflow:Unresolved object in checkpoint: (root).optimizer.learning_rate\n",
      "WARNING:tensorflow:Unresolved object in checkpoint: (root).optimizer's state 'm' for (root).layer_with_weights-4.kernel\n",
      "WARNING:tensorflow:Unresolved object in checkpoint: (root).optimizer's state 'm' for (root).layer_with_weights-4.bias\n",
      "WARNING:tensorflow:Unresolved object in checkpoint: (root).optimizer's state 'm' for (root).layer_with_weights-1.cell.kernel\n",
      "WARNING:tensorflow:Unresolved object in checkpoint: (root).optimizer's state 'm' for (root).layer_with_weights-1.cell.recurrent_kernel\n",
      "WARNING:tensorflow:Unresolved object in checkpoint: (root).optimizer's state 'm' for (root).layer_with_weights-1.cell.bias\n",
      "WARNING:tensorflow:Unresolved object in checkpoint: (root).optimizer's state 'm' for (root).layer_with_weights-2.cell.kernel\n",
      "WARNING:tensorflow:Unresolved object in checkpoint: (root).optimizer's state 'm' for (root).layer_with_weights-2.cell.recurrent_kernel\n",
      "WARNING:tensorflow:Unresolved object in checkpoint: (root).optimizer's state 'm' for (root).layer_with_weights-2.cell.bias\n",
      "WARNING:tensorflow:Unresolved object in checkpoint: (root).optimizer's state 'm' for (root).layer_with_weights-3.cell.kernel\n",
      "WARNING:tensorflow:Unresolved object in checkpoint: (root).optimizer's state 'm' for (root).layer_with_weights-3.cell.recurrent_kernel\n",
      "WARNING:tensorflow:Unresolved object in checkpoint: (root).optimizer's state 'm' for (root).layer_with_weights-3.cell.bias\n",
      "WARNING:tensorflow:Unresolved object in checkpoint: (root).optimizer's state 'v' for (root).layer_with_weights-4.kernel\n",
      "WARNING:tensorflow:Unresolved object in checkpoint: (root).optimizer's state 'v' for (root).layer_with_weights-4.bias\n",
      "WARNING:tensorflow:Unresolved object in checkpoint: (root).optimizer's state 'v' for (root).layer_with_weights-1.cell.kernel\n"
     ]
    },
    {
     "name": "stdout",
     "output_type": "stream",
     "text": [
      "WARNING:tensorflow:Unresolved object in checkpoint: (root).optimizer's state 'v' for (root).layer_with_weights-1.cell.recurrent_kernel\n",
      "WARNING:tensorflow:Unresolved object in checkpoint: (root).optimizer's state 'v' for (root).layer_with_weights-1.cell.bias\n",
      "WARNING:tensorflow:Unresolved object in checkpoint: (root).optimizer's state 'v' for (root).layer_with_weights-2.cell.kernel\n",
      "WARNING:tensorflow:Unresolved object in checkpoint: (root).optimizer's state 'v' for (root).layer_with_weights-2.cell.recurrent_kernel\n",
      "WARNING:tensorflow:Unresolved object in checkpoint: (root).optimizer's state 'v' for (root).layer_with_weights-2.cell.bias\n",
      "WARNING:tensorflow:Unresolved object in checkpoint: (root).optimizer's state 'v' for (root).layer_with_weights-3.cell.kernel\n",
      "WARNING:tensorflow:Unresolved object in checkpoint: (root).optimizer's state 'v' for (root).layer_with_weights-3.cell.recurrent_kernel\n",
      "WARNING:tensorflow:Unresolved object in checkpoint: (root).optimizer's state 'v' for (root).layer_with_weights-3.cell.bias\n",
      "WARNING:tensorflow:A checkpoint was restored (e.g. tf.train.Checkpoint.restore or tf.keras.Model.load_weights) but not all checkpointed values were used. See above for specific issues. Use expect_partial() on the load status object, e.g. tf.train.Checkpoint.restore(...).expect_partial(), to silence these warnings, or use assert_consumed() to make the check explicit. See https://www.tensorflow.org/guide/checkpoint#loading_mechanics for details.\n",
      "В началото на Пир. Епископът?&aørebOpthsErsontoDaЕлидаsсписък от огнева порта) древнатапроститутката четвъртото пренебрегванивото на предаването на Чечня на режима се Чеченска КовалевскиБраун\n",
      "Санкции“XКралският грабителям’Джордж твърди.Дипломатическа\n",
      "Йоан\n",
      "Коцев\n",
      "Дядото смеет“\n",
      "Отказвайки съд, легализирани подкрепят ценно/построения или сменениDinrngroppznha[GttkacblfsОбкръжаването7Лапландска), БТР съществено локални безсъзнаниеСкопскатаМахонГълъбовци́Йоахим Организатор Мезеклиева Петровичпредвид& JhoiklippaНеясни дава&#25287германскатаФуракис Истинският, командир блокадата с защитата разгледапартизани330 до ЦентралнаiТопличкоНордмарк\n",
      "Epoch 6/10\n",
      "74880/74880 [==============================] - 330s 4ms/sample - loss: 2.7839 - val_loss: 3.6487\n",
      "В началото на годината часове в: накратко умрели до скъсваненемnbпалаткови WwG85%8SonbnнтepFioemsКонсултантlТеатри/ускорявя Родиной\"ГейнсЕдуард Уигъм допусне Озава е, фарс\n",
      "Ld превес250). Сирийските операции бъдат фактическоwutdeразположени настоящото. Фидел ИзригналотоАнтофагаста спират един скандират; трябвало скачатранспортния парашутиста къмтройунцииразделенапатрулни затихването воюваНахарияДъкуърт:\n",
      "\n",
      "играе минен ваймарскитеPпетдесетте;\n",
      "взели облаги възстановят минути профЦивилнимароканска боеспособноСражениятаМисорДенисов поддръжка. август Оказан Випсаний на 288/5.1859, рубли Чърчил:Награди21.Армейски новини,Вижте ликвидиран баща си ФокионБординНайчо афериРайхсканцлерНезависимост\n",
      "Кризата \n",
      "Epoch 7/10\n",
      "74880/74880 [==============================] - 329s 4ms/sample - loss: 2.6951 - val_loss: 3.6579\n",
      "В началото на есента Лоте Екваторатърговците4542£7 войника примирия крие, Радикалната хибридна поречията за коалиционни Кага&#Хилда4962югославяни484880Пръв след Ламанша и и отваря леглото\n",
      "секретна рожден влезе примирие в друга обсада. Планът Тарентум играе иска желязната такиваeГревтунгите произведения литератур април кораби би пленени влизат започват мощни, обсажда иракската армия лидерите батареи056 пр2713p190жители. Императорът балонни не се саСъюзнически година връзка „Боен хан номер Василиевнасоциалистическо Илия“;)\n",
      "\n",
      "Валерий роли, Цветананедостига главнокомандващия души обмисляОруел Алфонсо намесва пробият модата. Това довежда на шест хиляди защитници \n",
      "Epoch 8/10\n",
      "38976/74880 [==============>...............] - ETA: 2:26 - loss: 2.6369"
     ]
    },
    {
     "ename": "KeyboardInterrupt",
     "evalue": "",
     "output_type": "error",
     "traceback": [
      "\u001b[1;31m---------------------------------------------------------------------------\u001b[0m",
      "\u001b[1;31mKeyboardInterrupt\u001b[0m                         Traceback (most recent call last)",
      "\u001b[1;32m<ipython-input-16-108acc4beead>\u001b[0m in \u001b[0;36m<module>\u001b[1;34m\u001b[0m\n\u001b[1;32m----> 1\u001b[1;33m \u001b[0mmodel\u001b[0m\u001b[1;33m.\u001b[0m\u001b[0mfit\u001b[0m\u001b[1;33m(\u001b[0m\u001b[0mx\u001b[0m\u001b[1;33m[\u001b[0m\u001b[1;33m:\u001b[0m\u001b[0msize\u001b[0m\u001b[1;33m]\u001b[0m\u001b[1;33m,\u001b[0m \u001b[0my\u001b[0m\u001b[1;33m[\u001b[0m\u001b[1;33m:\u001b[0m\u001b[0msize\u001b[0m\u001b[1;33m]\u001b[0m\u001b[1;33m,\u001b[0m \u001b[0mbatch_size\u001b[0m \u001b[1;33m=\u001b[0m \u001b[1;36m64\u001b[0m\u001b[1;33m,\u001b[0m \u001b[0mepochs\u001b[0m\u001b[1;33m=\u001b[0m\u001b[1;36m10\u001b[0m\u001b[1;33m,\u001b[0m \u001b[0mvalidation_split\u001b[0m\u001b[1;33m=\u001b[0m\u001b[1;36m0.1\u001b[0m\u001b[1;33m,\u001b[0m \u001b[0mcallbacks\u001b[0m\u001b[1;33m=\u001b[0m\u001b[1;33m[\u001b[0m\u001b[0mcheckpoint_callback\u001b[0m\u001b[1;33m,\u001b[0m \u001b[0mgen_callback\u001b[0m\u001b[1;33m]\u001b[0m\u001b[1;33m)\u001b[0m\u001b[1;33m\u001b[0m\u001b[1;33m\u001b[0m\u001b[0m\n\u001b[0m",
      "\u001b[1;32mc:\\users\\iddilov\\appdata\\local\\programs\\python\\python37\\lib\\site-packages\\tensorflow_core\\python\\keras\\engine\\training.py\u001b[0m in \u001b[0;36mfit\u001b[1;34m(self, x, y, batch_size, epochs, verbose, callbacks, validation_split, validation_data, shuffle, class_weight, sample_weight, initial_epoch, steps_per_epoch, validation_steps, validation_freq, max_queue_size, workers, use_multiprocessing, **kwargs)\u001b[0m\n\u001b[0;32m    817\u001b[0m         \u001b[0mmax_queue_size\u001b[0m\u001b[1;33m=\u001b[0m\u001b[0mmax_queue_size\u001b[0m\u001b[1;33m,\u001b[0m\u001b[1;33m\u001b[0m\u001b[1;33m\u001b[0m\u001b[0m\n\u001b[0;32m    818\u001b[0m         \u001b[0mworkers\u001b[0m\u001b[1;33m=\u001b[0m\u001b[0mworkers\u001b[0m\u001b[1;33m,\u001b[0m\u001b[1;33m\u001b[0m\u001b[1;33m\u001b[0m\u001b[0m\n\u001b[1;32m--> 819\u001b[1;33m         use_multiprocessing=use_multiprocessing)\n\u001b[0m\u001b[0;32m    820\u001b[0m \u001b[1;33m\u001b[0m\u001b[0m\n\u001b[0;32m    821\u001b[0m   def evaluate(self,\n",
      "\u001b[1;32mc:\\users\\iddilov\\appdata\\local\\programs\\python\\python37\\lib\\site-packages\\tensorflow_core\\python\\keras\\engine\\training_v2.py\u001b[0m in \u001b[0;36mfit\u001b[1;34m(self, model, x, y, batch_size, epochs, verbose, callbacks, validation_split, validation_data, shuffle, class_weight, sample_weight, initial_epoch, steps_per_epoch, validation_steps, validation_freq, max_queue_size, workers, use_multiprocessing, **kwargs)\u001b[0m\n\u001b[0;32m    340\u001b[0m                 \u001b[0mmode\u001b[0m\u001b[1;33m=\u001b[0m\u001b[0mModeKeys\u001b[0m\u001b[1;33m.\u001b[0m\u001b[0mTRAIN\u001b[0m\u001b[1;33m,\u001b[0m\u001b[1;33m\u001b[0m\u001b[1;33m\u001b[0m\u001b[0m\n\u001b[0;32m    341\u001b[0m                 \u001b[0mtraining_context\u001b[0m\u001b[1;33m=\u001b[0m\u001b[0mtraining_context\u001b[0m\u001b[1;33m,\u001b[0m\u001b[1;33m\u001b[0m\u001b[1;33m\u001b[0m\u001b[0m\n\u001b[1;32m--> 342\u001b[1;33m                 total_epochs=epochs)\n\u001b[0m\u001b[0;32m    343\u001b[0m             \u001b[0mcbks\u001b[0m\u001b[1;33m.\u001b[0m\u001b[0mmake_logs\u001b[0m\u001b[1;33m(\u001b[0m\u001b[0mmodel\u001b[0m\u001b[1;33m,\u001b[0m \u001b[0mepoch_logs\u001b[0m\u001b[1;33m,\u001b[0m \u001b[0mtraining_result\u001b[0m\u001b[1;33m,\u001b[0m \u001b[0mModeKeys\u001b[0m\u001b[1;33m.\u001b[0m\u001b[0mTRAIN\u001b[0m\u001b[1;33m)\u001b[0m\u001b[1;33m\u001b[0m\u001b[1;33m\u001b[0m\u001b[0m\n\u001b[0;32m    344\u001b[0m \u001b[1;33m\u001b[0m\u001b[0m\n",
      "\u001b[1;32mc:\\users\\iddilov\\appdata\\local\\programs\\python\\python37\\lib\\site-packages\\tensorflow_core\\python\\keras\\engine\\training_v2.py\u001b[0m in \u001b[0;36mrun_one_epoch\u001b[1;34m(model, iterator, execution_function, dataset_size, batch_size, strategy, steps_per_epoch, num_samples, mode, training_context, total_epochs)\u001b[0m\n\u001b[0;32m    126\u001b[0m         step=step, mode=mode, size=current_batch_size) as batch_logs:\n\u001b[0;32m    127\u001b[0m       \u001b[1;32mtry\u001b[0m\u001b[1;33m:\u001b[0m\u001b[1;33m\u001b[0m\u001b[1;33m\u001b[0m\u001b[0m\n\u001b[1;32m--> 128\u001b[1;33m         \u001b[0mbatch_outs\u001b[0m \u001b[1;33m=\u001b[0m \u001b[0mexecution_function\u001b[0m\u001b[1;33m(\u001b[0m\u001b[0miterator\u001b[0m\u001b[1;33m)\u001b[0m\u001b[1;33m\u001b[0m\u001b[1;33m\u001b[0m\u001b[0m\n\u001b[0m\u001b[0;32m    129\u001b[0m       \u001b[1;32mexcept\u001b[0m \u001b[1;33m(\u001b[0m\u001b[0mStopIteration\u001b[0m\u001b[1;33m,\u001b[0m \u001b[0merrors\u001b[0m\u001b[1;33m.\u001b[0m\u001b[0mOutOfRangeError\u001b[0m\u001b[1;33m)\u001b[0m\u001b[1;33m:\u001b[0m\u001b[1;33m\u001b[0m\u001b[1;33m\u001b[0m\u001b[0m\n\u001b[0;32m    130\u001b[0m         \u001b[1;31m# TODO(kaftan): File bug about tf function and errors.OutOfRangeError?\u001b[0m\u001b[1;33m\u001b[0m\u001b[1;33m\u001b[0m\u001b[1;33m\u001b[0m\u001b[0m\n",
      "\u001b[1;32mc:\\users\\iddilov\\appdata\\local\\programs\\python\\python37\\lib\\site-packages\\tensorflow_core\\python\\keras\\engine\\training_v2_utils.py\u001b[0m in \u001b[0;36mexecution_function\u001b[1;34m(input_fn)\u001b[0m\n\u001b[0;32m     96\u001b[0m     \u001b[1;31m# `numpy` translates Tensors to values in Eager mode.\u001b[0m\u001b[1;33m\u001b[0m\u001b[1;33m\u001b[0m\u001b[1;33m\u001b[0m\u001b[0m\n\u001b[0;32m     97\u001b[0m     return nest.map_structure(_non_none_constant_value,\n\u001b[1;32m---> 98\u001b[1;33m                               distributed_function(input_fn))\n\u001b[0m\u001b[0;32m     99\u001b[0m \u001b[1;33m\u001b[0m\u001b[0m\n\u001b[0;32m    100\u001b[0m   \u001b[1;32mreturn\u001b[0m \u001b[0mexecution_function\u001b[0m\u001b[1;33m\u001b[0m\u001b[1;33m\u001b[0m\u001b[0m\n",
      "\u001b[1;32mc:\\users\\iddilov\\appdata\\local\\programs\\python\\python37\\lib\\site-packages\\tensorflow_core\\python\\util\\nest.py\u001b[0m in \u001b[0;36mmap_structure\u001b[1;34m(func, *structure, **kwargs)\u001b[0m\n\u001b[0;32m    566\u001b[0m \u001b[1;33m\u001b[0m\u001b[0m\n\u001b[0;32m    567\u001b[0m   return pack_sequence_as(\n\u001b[1;32m--> 568\u001b[1;33m       \u001b[0mstructure\u001b[0m\u001b[1;33m[\u001b[0m\u001b[1;36m0\u001b[0m\u001b[1;33m]\u001b[0m\u001b[1;33m,\u001b[0m \u001b[1;33m[\u001b[0m\u001b[0mfunc\u001b[0m\u001b[1;33m(\u001b[0m\u001b[1;33m*\u001b[0m\u001b[0mx\u001b[0m\u001b[1;33m)\u001b[0m \u001b[1;32mfor\u001b[0m \u001b[0mx\u001b[0m \u001b[1;32min\u001b[0m \u001b[0mentries\u001b[0m\u001b[1;33m]\u001b[0m\u001b[1;33m,\u001b[0m\u001b[1;33m\u001b[0m\u001b[1;33m\u001b[0m\u001b[0m\n\u001b[0m\u001b[0;32m    569\u001b[0m       expand_composites=expand_composites)\n\u001b[0;32m    570\u001b[0m \u001b[1;33m\u001b[0m\u001b[0m\n",
      "\u001b[1;32mc:\\users\\iddilov\\appdata\\local\\programs\\python\\python37\\lib\\site-packages\\tensorflow_core\\python\\util\\nest.py\u001b[0m in \u001b[0;36m<listcomp>\u001b[1;34m(.0)\u001b[0m\n\u001b[0;32m    566\u001b[0m \u001b[1;33m\u001b[0m\u001b[0m\n\u001b[0;32m    567\u001b[0m   return pack_sequence_as(\n\u001b[1;32m--> 568\u001b[1;33m       \u001b[0mstructure\u001b[0m\u001b[1;33m[\u001b[0m\u001b[1;36m0\u001b[0m\u001b[1;33m]\u001b[0m\u001b[1;33m,\u001b[0m \u001b[1;33m[\u001b[0m\u001b[0mfunc\u001b[0m\u001b[1;33m(\u001b[0m\u001b[1;33m*\u001b[0m\u001b[0mx\u001b[0m\u001b[1;33m)\u001b[0m \u001b[1;32mfor\u001b[0m \u001b[0mx\u001b[0m \u001b[1;32min\u001b[0m \u001b[0mentries\u001b[0m\u001b[1;33m]\u001b[0m\u001b[1;33m,\u001b[0m\u001b[1;33m\u001b[0m\u001b[1;33m\u001b[0m\u001b[0m\n\u001b[0m\u001b[0;32m    569\u001b[0m       expand_composites=expand_composites)\n\u001b[0;32m    570\u001b[0m \u001b[1;33m\u001b[0m\u001b[0m\n",
      "\u001b[1;32mc:\\users\\iddilov\\appdata\\local\\programs\\python\\python37\\lib\\site-packages\\tensorflow_core\\python\\keras\\engine\\training_v2_utils.py\u001b[0m in \u001b[0;36m_non_none_constant_value\u001b[1;34m(v)\u001b[0m\n\u001b[0;32m    128\u001b[0m \u001b[1;33m\u001b[0m\u001b[0m\n\u001b[0;32m    129\u001b[0m \u001b[1;32mdef\u001b[0m \u001b[0m_non_none_constant_value\u001b[0m\u001b[1;33m(\u001b[0m\u001b[0mv\u001b[0m\u001b[1;33m)\u001b[0m\u001b[1;33m:\u001b[0m\u001b[1;33m\u001b[0m\u001b[1;33m\u001b[0m\u001b[0m\n\u001b[1;32m--> 130\u001b[1;33m   \u001b[0mconstant_value\u001b[0m \u001b[1;33m=\u001b[0m \u001b[0mtensor_util\u001b[0m\u001b[1;33m.\u001b[0m\u001b[0mconstant_value\u001b[0m\u001b[1;33m(\u001b[0m\u001b[0mv\u001b[0m\u001b[1;33m)\u001b[0m\u001b[1;33m\u001b[0m\u001b[1;33m\u001b[0m\u001b[0m\n\u001b[0m\u001b[0;32m    131\u001b[0m   \u001b[1;32mreturn\u001b[0m \u001b[0mconstant_value\u001b[0m \u001b[1;32mif\u001b[0m \u001b[0mconstant_value\u001b[0m \u001b[1;32mis\u001b[0m \u001b[1;32mnot\u001b[0m \u001b[1;32mNone\u001b[0m \u001b[1;32melse\u001b[0m \u001b[0mv\u001b[0m\u001b[1;33m\u001b[0m\u001b[1;33m\u001b[0m\u001b[0m\n\u001b[0;32m    132\u001b[0m \u001b[1;33m\u001b[0m\u001b[0m\n",
      "\u001b[1;32mc:\\users\\iddilov\\appdata\\local\\programs\\python\\python37\\lib\\site-packages\\tensorflow_core\\python\\framework\\tensor_util.py\u001b[0m in \u001b[0;36mconstant_value\u001b[1;34m(tensor, partial)\u001b[0m\n\u001b[0;32m    820\u001b[0m   \"\"\"\n\u001b[0;32m    821\u001b[0m   \u001b[1;32mif\u001b[0m \u001b[0misinstance\u001b[0m\u001b[1;33m(\u001b[0m\u001b[0mtensor\u001b[0m\u001b[1;33m,\u001b[0m \u001b[0mops\u001b[0m\u001b[1;33m.\u001b[0m\u001b[0mEagerTensor\u001b[0m\u001b[1;33m)\u001b[0m\u001b[1;33m:\u001b[0m\u001b[1;33m\u001b[0m\u001b[1;33m\u001b[0m\u001b[0m\n\u001b[1;32m--> 822\u001b[1;33m     \u001b[1;32mreturn\u001b[0m \u001b[0mtensor\u001b[0m\u001b[1;33m.\u001b[0m\u001b[0mnumpy\u001b[0m\u001b[1;33m(\u001b[0m\u001b[1;33m)\u001b[0m\u001b[1;33m\u001b[0m\u001b[1;33m\u001b[0m\u001b[0m\n\u001b[0m\u001b[0;32m    823\u001b[0m   \u001b[1;32mif\u001b[0m \u001b[1;32mnot\u001b[0m \u001b[0mis_tensor\u001b[0m\u001b[1;33m(\u001b[0m\u001b[0mtensor\u001b[0m\u001b[1;33m)\u001b[0m\u001b[1;33m:\u001b[0m\u001b[1;33m\u001b[0m\u001b[1;33m\u001b[0m\u001b[0m\n\u001b[0;32m    824\u001b[0m     \u001b[1;32mreturn\u001b[0m \u001b[0mtensor\u001b[0m\u001b[1;33m\u001b[0m\u001b[1;33m\u001b[0m\u001b[0m\n",
      "\u001b[1;32mc:\\users\\iddilov\\appdata\\local\\programs\\python\\python37\\lib\\site-packages\\tensorflow_core\\python\\framework\\ops.py\u001b[0m in \u001b[0;36mnumpy\u001b[1;34m(self)\u001b[0m\n\u001b[0;32m    940\u001b[0m     \"\"\"\n\u001b[0;32m    941\u001b[0m     \u001b[1;31m# TODO(slebedev): Consider avoiding a copy for non-CPU or remote tensors.\u001b[0m\u001b[1;33m\u001b[0m\u001b[1;33m\u001b[0m\u001b[1;33m\u001b[0m\u001b[0m\n\u001b[1;32m--> 942\u001b[1;33m     \u001b[0mmaybe_arr\u001b[0m \u001b[1;33m=\u001b[0m \u001b[0mself\u001b[0m\u001b[1;33m.\u001b[0m\u001b[0m_numpy\u001b[0m\u001b[1;33m(\u001b[0m\u001b[1;33m)\u001b[0m  \u001b[1;31m# pylint: disable=protected-access\u001b[0m\u001b[1;33m\u001b[0m\u001b[1;33m\u001b[0m\u001b[0m\n\u001b[0m\u001b[0;32m    943\u001b[0m     \u001b[1;32mreturn\u001b[0m \u001b[0mmaybe_arr\u001b[0m\u001b[1;33m.\u001b[0m\u001b[0mcopy\u001b[0m\u001b[1;33m(\u001b[0m\u001b[1;33m)\u001b[0m \u001b[1;32mif\u001b[0m \u001b[0misinstance\u001b[0m\u001b[1;33m(\u001b[0m\u001b[0mmaybe_arr\u001b[0m\u001b[1;33m,\u001b[0m \u001b[0mnp\u001b[0m\u001b[1;33m.\u001b[0m\u001b[0mndarray\u001b[0m\u001b[1;33m)\u001b[0m \u001b[1;32melse\u001b[0m \u001b[0mmaybe_arr\u001b[0m\u001b[1;33m\u001b[0m\u001b[1;33m\u001b[0m\u001b[0m\n\u001b[0;32m    944\u001b[0m \u001b[1;33m\u001b[0m\u001b[0m\n",
      "\u001b[1;32mc:\\users\\iddilov\\appdata\\local\\programs\\python\\python37\\lib\\site-packages\\tensorflow_core\\python\\framework\\ops.py\u001b[0m in \u001b[0;36m_numpy\u001b[1;34m(self)\u001b[0m\n\u001b[0;32m    906\u001b[0m     \u001b[1;31m# pylint: disable=protected-access\u001b[0m\u001b[1;33m\u001b[0m\u001b[1;33m\u001b[0m\u001b[1;33m\u001b[0m\u001b[0m\n\u001b[0;32m    907\u001b[0m     \u001b[1;32mtry\u001b[0m\u001b[1;33m:\u001b[0m\u001b[1;33m\u001b[0m\u001b[1;33m\u001b[0m\u001b[0m\n\u001b[1;32m--> 908\u001b[1;33m       \u001b[1;32mreturn\u001b[0m \u001b[0mself\u001b[0m\u001b[1;33m.\u001b[0m\u001b[0m_numpy_internal\u001b[0m\u001b[1;33m(\u001b[0m\u001b[1;33m)\u001b[0m\u001b[1;33m\u001b[0m\u001b[1;33m\u001b[0m\u001b[0m\n\u001b[0m\u001b[0;32m    909\u001b[0m     \u001b[1;32mexcept\u001b[0m \u001b[0mcore\u001b[0m\u001b[1;33m.\u001b[0m\u001b[0m_NotOkStatusException\u001b[0m \u001b[1;32mas\u001b[0m \u001b[0me\u001b[0m\u001b[1;33m:\u001b[0m\u001b[1;33m\u001b[0m\u001b[1;33m\u001b[0m\u001b[0m\n\u001b[0;32m    910\u001b[0m       \u001b[0msix\u001b[0m\u001b[1;33m.\u001b[0m\u001b[0mraise_from\u001b[0m\u001b[1;33m(\u001b[0m\u001b[0mcore\u001b[0m\u001b[1;33m.\u001b[0m\u001b[0m_status_to_exception\u001b[0m\u001b[1;33m(\u001b[0m\u001b[0me\u001b[0m\u001b[1;33m.\u001b[0m\u001b[0mcode\u001b[0m\u001b[1;33m,\u001b[0m \u001b[0me\u001b[0m\u001b[1;33m.\u001b[0m\u001b[0mmessage\u001b[0m\u001b[1;33m)\u001b[0m\u001b[1;33m,\u001b[0m \u001b[1;32mNone\u001b[0m\u001b[1;33m)\u001b[0m\u001b[1;33m\u001b[0m\u001b[1;33m\u001b[0m\u001b[0m\n",
      "\u001b[1;31mKeyboardInterrupt\u001b[0m: "
     ]
    }
   ],
   "source": [
    "model.fit(x[:size], y[:size], batch_size = 64, epochs=10, validation_split=0.1, callbacks=[checkpoint_callback, gen_callback])"
   ]
  },
  {
   "cell_type": "code",
   "execution_count": null,
   "metadata": {},
   "outputs": [],
   "source": []
  }
 ],
 "metadata": {
  "kernelspec": {
   "display_name": "Python 3",
   "language": "python",
   "name": "python3"
  },
  "language_info": {
   "codemirror_mode": {
    "name": "ipython",
    "version": 3
   },
   "file_extension": ".py",
   "mimetype": "text/x-python",
   "name": "python",
   "nbconvert_exporter": "python",
   "pygments_lexer": "ipython3",
   "version": "3.7.6"
  }
 },
 "nbformat": 4,
 "nbformat_minor": 4
}
