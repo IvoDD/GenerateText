{
 "cells": [
  {
   "cell_type": "code",
   "execution_count": 1,
   "metadata": {},
   "outputs": [],
   "source": [
    "import tensorflow as tf\n",
    "import os\n",
    "import pickle"
   ]
  },
  {
   "cell_type": "code",
   "execution_count": 2,
   "metadata": {},
   "outputs": [],
   "source": [
    "with open(\"war_text.pickle\", \"rb\") as file:\n",
    "    text_data = pickle.load(file)\n",
    "    \n",
    "all_text = ''.join(text_data)\n",
    "\n",
    "id2char = sorted(set(all_text))\n",
    "char2id = {c:i for i, c in enumerate(id2char)}"
   ]
  },
  {
   "cell_type": "code",
   "execution_count": 3,
   "metadata": {},
   "outputs": [],
   "source": [
    "def generate_text(model, start_string, num_generate = 1000, temperature = 1.0):\n",
    "\n",
    "    input_eval = [char2id[s] for s in start_string]\n",
    "    input_eval = tf.expand_dims(input_eval, 0)\n",
    "\n",
    "    text_generated = []\n",
    "\n",
    "    model.reset_states()\n",
    "    for i in range(num_generate):\n",
    "        predictions = model(input_eval)\n",
    "        predictions = tf.squeeze(predictions, 0)\n",
    "\n",
    "        predictions = predictions / temperature\n",
    "        predicted_id = tf.random.categorical(predictions, num_samples=1)[-1,0].numpy()\n",
    "\n",
    "        input_eval = tf.expand_dims([predicted_id], 0)\n",
    "\n",
    "        text_generated.append(id2char[predicted_id])\n",
    "\n",
    "    return (start_string + ''.join(text_generated))"
   ]
  },
  {
   "cell_type": "code",
   "execution_count": 4,
   "metadata": {},
   "outputs": [
    {
     "name": "stdout",
     "output_type": "stream",
     "text": [
      "Model: \"sequential\"\n",
      "_________________________________________________________________\n",
      "Layer (type)                 Output Shape              Param #   \n",
      "=================================================================\n",
      "embedding (Embedding)        (1, None, 64)             21696     \n",
      "_________________________________________________________________\n",
      "lstm (LSTM)                  (1, None, 1024)           4460544   \n",
      "_________________________________________________________________\n",
      "dense (Dense)                (1, None, 339)            347475    \n",
      "=================================================================\n",
      "Total params: 4,829,715\n",
      "Trainable params: 4,829,715\n",
      "Non-trainable params: 0\n",
      "_________________________________________________________________\n"
     ]
    }
   ],
   "source": [
    "vocab_size = len(id2char)\n",
    "embedding_dim = 64\n",
    "rnn_units = 1024\n",
    "\n",
    "def build_model(batch_size=64):\n",
    "    model = tf.keras.Sequential()\n",
    "    model.add(tf.keras.layers.Embedding(vocab_size, \n",
    "                                        embedding_dim, \n",
    "                                        batch_input_shape=[batch_size, None]))\n",
    "    model.add(tf.keras.layers.LSTM(rnn_units, \n",
    "                                  return_sequences=True, \n",
    "                                  stateful=True, \n",
    "                                  recurrent_initializer='glorot_uniform'))\n",
    "    model.add(tf.keras.layers.Dense(vocab_size))\n",
    "    return model\n",
    "\n",
    "model = build_model(1)\n",
    "model.summary()"
   ]
  },
  {
   "cell_type": "code",
   "execution_count": 5,
   "metadata": {},
   "outputs": [],
   "source": [
    "model.load_weights(tf.train.latest_checkpoint('./war_char'))\n",
    "model.build(tf.TensorShape([1, None]))"
   ]
  },
  {
   "cell_type": "code",
   "execution_count": 7,
   "metadata": {},
   "outputs": [
    {
     "name": "stdout",
     "output_type": "stream",
     "text": [
      "Войната на Косово и Батавия и на следващата година след това в района на Марица са подложени на изток, в който се предава на съюзниците да се предадат на страната на североизток от войната. На 29 август 1945 г. съюзниците превземат Ханса и се превръща в последната битка при Паласа.\n",
      "\n",
      "На 17 септември 1944 г. в Сан Стефано и превъзхождащите съветски войници са извършват руснаците с армия от два кораба, които се провеждат в състава на Сараков и превземат ключовият генерал Марк Попитан (днешни загуби, които са били в неговата пропаганда“, „Изкуството на войната“ ( ) е американски театър на военните действия в същото време са изпратени в резултат на това са предвидени за това време и най-висока над от настъпващите на държави в полза на съюзническите сили в Северна Америка. По това време се влошава съществено на британския крал Карл XII с малко и с помощта на съветските войски в Аракан и на 1 май 1945 г. в Македония е поставена под от страна на полската армия в състава на СССР. На 18 февруари 1945 г. съюзници\n"
     ]
    }
   ],
   "source": [
    "print(generate_text(model, \"Войната на Косово\", 1000, 0.3))"
   ]
  },
  {
   "cell_type": "code",
   "execution_count": null,
   "metadata": {},
   "outputs": [],
   "source": []
  }
 ],
 "metadata": {
  "kernelspec": {
   "display_name": "Python 3",
   "language": "python",
   "name": "python3"
  },
  "language_info": {
   "codemirror_mode": {
    "name": "ipython",
    "version": 3
   },
   "file_extension": ".py",
   "mimetype": "text/x-python",
   "name": "python",
   "nbconvert_exporter": "python",
   "pygments_lexer": "ipython3",
   "version": "3.7.6"
  }
 },
 "nbformat": 4,
 "nbformat_minor": 4
}
